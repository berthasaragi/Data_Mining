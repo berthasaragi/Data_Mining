{
  "nbformat": 4,
  "nbformat_minor": 0,
  "metadata": {
    "colab": {
      "provenance": [],
      "authorship_tag": "ABX9TyN5oLRwzyOfHGbSpT0qnGl+",
      "include_colab_link": true
    },
    "kernelspec": {
      "name": "python3",
      "display_name": "Python 3"
    },
    "language_info": {
      "name": "python"
    }
  },
  "cells": [
    {
      "cell_type": "markdown",
      "metadata": {
        "id": "view-in-github",
        "colab_type": "text"
      },
      "source": [
        "<a href=\"https://colab.research.google.com/github/berthasaragi/Data_Mining/blob/main/Bertha_Saragi_history%20renang.ipynb\" target=\"_parent\"><img src=\"https://colab.research.google.com/assets/colab-badge.svg\" alt=\"Open In Colab\"/></a>"
      ]
    },
    {
      "cell_type": "code",
      "execution_count": null,
      "metadata": {
        "id": "Zo2rnInsqiF_"
      },
      "outputs": [],
      "source": []
    },
    {
      "cell_type": "markdown",
      "source": [],
      "metadata": {
        "id": "ckYRGkbtlQpX"
      }
    },
    {
      "cell_type": "markdown",
      "source": [
        "# **Analisis Performa Atlet Renang dalam Olimpiade melalui histori hasil perlombaan**\n",
        "\n",
        "# Business Understanding\n",
        "\n",
        "Business Objective\n",
        "\n",
        "Tujuan bisnis dari analisis dataset ini adalah untuk memberikan wawasan yang mendalam kepada sponsor, federasi olahraga, dan penggemar tentang prestasi atlet dan tim nasional dalam Olimpiade renang.\n",
        "\n",
        "\n",
        "Asess Situation\n",
        "\n",
        "Situasi bisnis yang mendasari analisis dataset ini adalah Tingginya minat dan popularitas olahraga renang dalam Olimpiade serta Kebutuhan federasi olahraga untuk meningkatkan kualitas dan konsistensi kinerja atlet renang.\n",
        "\n",
        "\n",
        "Data mining goals\n",
        "\n",
        "Tujuan dari analisis data ini adalah Menganalisis tren kinerja atlet-renang dari tahun ke tahun dalam Olimpiade untuk memahami apakah ada peningkatan atau penurunan dalam prestasi mereka dari waktu ke waktu.\n",
        "\n",
        "Project Plan\n",
        "\n",
        "Rencana proyek untuk menganalisis performa atlet renang dalam Olimpiade melalui histori hasil perlombaan dimulai dengan tahap pengumpulan data dari berbagai sumber yang tersedia, termasuk data historis perlombaan renang dari tahun 1912 hingga 2020. Selanjutnya, data akan dianalisis untuk memahami karakteristiknya dan mengidentifikasi pola-pola yang menarik.\n",
        "\n",
        "Setelah itu, data akan dieksplorasi lebih lanjut untuk mengidentifikasi korelasi dan hubungan antar variabel, seperti hubungan antara jenis kelamin atlet, jarak tempuh perlombaan, gaya renang, dan medley perorangan dengan hasil perlombaan. Analisis ini akan memberikan wawasan tentang faktor-faktor yang mempengaruhi kinerja atlet renang dalam kompetisi Olimpiade.\n",
        "\n",
        "Selain itu, kualitas data akan dinilai secara menyeluruh dan masalah data seperti nilai yang hilang atau tidak valid akan diidentifikasi untuk kemudian diatasi dalam tahapan berikutnya. Langkah-langkah ini penting untuk memastikan keakuratan dan keandalan analisis data.\n"
      ],
      "metadata": {
        "id": "ygOilGxbqkZG"
      }
    }
  ]
}