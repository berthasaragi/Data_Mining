{
  "nbformat": 4,
  "nbformat_minor": 0,
  "metadata": {
    "colab": {
      "provenance": [],
      "authorship_tag": "ABX9TyPJR0Xo100R7xd3VOaY0p4c",
      "include_colab_link": true
    },
    "kernelspec": {
      "name": "python3",
      "display_name": "Python 3"
    },
    "language_info": {
      "name": "python"
    }
  },
  "cells": [
    {
      "cell_type": "markdown",
      "metadata": {
        "id": "view-in-github",
        "colab_type": "text"
      },
      "source": [
        "<a href=\"https://colab.research.google.com/github/berthasaragi/Data_Mining/blob/main/Olympic%20games%20medal.ipynb\" target=\"_parent\"><img src=\"https://colab.research.google.com/assets/colab-badge.svg\" alt=\"Open In Colab\"/></a>"
      ]
    },
    {
      "cell_type": "code",
      "execution_count": null,
      "metadata": {
        "id": "Zo2rnInsqiF_"
      },
      "outputs": [],
      "source": []
    },
    {
      "cell_type": "markdown",
      "source": [
        "# **Analisis kinerja atlet dari berbagai negara**\n",
        "\n",
        "# Business Understanding\n",
        "\n",
        "Business Objective\n",
        "\n",
        "Tujuan bisnis dari dataset \"Olympic Games Medal\" adalah untuk menganalisis kinerja atlet dan negara dalam kompetisi Olimpiade dengan tujuan utama memahami pola dan tren dalam perolehan medali. Dengan memahami bagaimana distribusi medali berubah dari waktu ke waktu dan bagaimana faktor-faktor seperti populasi, investasi dalam olahraga, dan kebijakan pemerintah mempengaruhi hasilnya, kita dapat mengevaluasi efektivitas strategi dan program pengembangan atletik.\n",
        "\n",
        "\n",
        "Asess Situation\n",
        "\n",
        "Situasi bisnis yang mendasari analisis dataset ini adalah mengevaluasi efektivitas program pengembangan atletik mereka dengan melihat perbandingan perolehan medali dari satu Olimpiade ke Olimpiade berikutnya.\n",
        "\n",
        "\n",
        "Data mining goals\n",
        "\n",
        "Tujuan dari analisis data ini adalah untuk mendapatkan pemahaman yang lebih dalam tentang kinerja atlet dan negara dalam kompetisi Olimpiade. Melalui analisis ini, kami bertujuan untuk mengidentifikasi pola dan tren dalam perolehan medali dari waktu ke waktu serta faktor-faktor yang memengaruhi hasilnya. Dengan demikian, kami berharap dapat memberikan wawasan yang berharga kepada pihak terkait\n",
        "\n",
        "Project Plan\n",
        "\n",
        "Proyek ini akan dimulai dengan tahap pengumpulan data dari sumber yang dapat dipercaya. Setelah data terkumpul, langkah berikutnya adalah tahap pemrosesan data, di mana data akan dibersihkan, disaring, dan diubah ke dalam format yang sesuai untuk analisis lebih lanjut. Setelah itu, akan dilakukan analisis lebih mendalam untuk mengeksplorasi hubungan antara variabel-variabel yang ada dalam dataset.Tahap berikutnya adalah penyusunan laporan hasil analisis, yang akan mencakup temuan-temuan utama, insight-insight penting, serta rekomendasi untuk tindakan selanjutnya."
      ],
      "metadata": {
        "id": "ygOilGxbqkZG"
      }
    }
  ]
}